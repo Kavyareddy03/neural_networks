{
  "nbformat": 4,
  "nbformat_minor": 0,
  "metadata": {
    "colab": {
      "provenance": []
    },
    "kernelspec": {
      "name": "python3",
      "display_name": "Python 3"
    },
    "language_info": {
      "name": "python"
    }
  },
  "cells": [
    {
      "cell_type": "code",
      "source": [
        "# Employee class is created\n",
        "class Employee(object):\n",
        "    # data member to count the number of Employees\n",
        "    employee_Count = 0\n",
        "\n",
        "    # constructor is created to initialize variables\n",
        "    def __init__(self, name, family, salary, department):\n",
        "        self.name = name\n",
        "        self.family = family\n",
        "        self.salary = salary\n",
        "        self.department = department\n",
        "        Employee.employee_Count += 1\n",
        "\n",
        "    # function is created for average salary\n",
        "    def average_salary(self):\n",
        "        return self.salary / Employee.employee_Count\n",
        "\n",
        "# Fulltime Employee class is created to inherit the properties of Employee class\n",
        "class Fulltime_Employee(Employee):\n",
        "    def __init__(self, name, family, salary, department):\n",
        "        Employee.__init__(self, name, family, salary, department)\n",
        "\n",
        "# Create instances of Employee and FulltimeEmployee\n",
        "emp1 = Employee(\"Kavya\", \"nagulapally\", 70000, \"Sales\")\n",
        "emp2 = Employee(\"Shravya\", \"Kandukuri\", 75000, \"Marketing\")\n",
        "emp3 = Fulltime_Employee(\"Srija\", \"Madi\", 65000, \"IT\")\n",
        "\n",
        "print(\"Average Salary of emp1:\", emp1.average_salary())\n",
        "print(\"Average Salary of emp2:\", emp2.average_salary())\n",
        "print(\"Average Salary of FulltimeEmployee:\", emp3.average_salary())\n",
        "print(\"Total number of employees:\", Employee.employee_Count )"
      ],
      "metadata": {
        "colab": {
          "base_uri": "https://localhost:8080/"
        },
        "id": "jEPRIt3cOCVN",
        "outputId": "25f65ec9-a42b-4e42-826c-42208ac0e172"
      },
      "execution_count": null,
      "outputs": [
        {
          "output_type": "stream",
          "name": "stdout",
          "text": [
            "Average Salary of emp1: 23333.333333333332\n",
            "Average Salary of emp2: 25000.0\n",
            "Average Salary of FulltimeEmployee: 21666.666666666668\n",
            "Total number of employees: 3\n"
          ]
        }
      ]
    },
    {
      "cell_type": "code",
      "source": [
        "import numpy as np\n",
        "\n",
        "# numpy array is created with random values in 4 by 5 size\n",
        "random_Array = np.random.uniform(low=1, high=20, size=(4,5))\n",
        "\n",
        "# Indices of max values\n",
        "max_Indices = np.argmax(random_Array, axis=1)\n",
        "\n",
        "# The row indices is finding\n",
        "row_Indices = np.arange(random_Array.shape[0])\n",
        "\n",
        "# exact positions of max valuesin the array\n",
        "position_Indices = np.array([row_Indices, max_Indices])\n",
        "\n",
        "# the array is converted into an array of flat indices\n",
        "linear_Indices = np.ravel_multi_index(position_Indices, random_Array.shape)\n",
        "\n",
        "# reshaping the linear array into multi dimensionanl array\n",
        "random_Array.reshape((-1))[linear_Indices] = 0\n",
        "\n",
        "print(random_Array)"
      ],
      "metadata": {
        "colab": {
          "base_uri": "https://localhost:8080/"
        },
        "id": "G-eZf60NPKmX",
        "outputId": "023b33dd-fd82-4dc3-d5a1-e5602f19fe24"
      },
      "execution_count": null,
      "outputs": [
        {
          "output_type": "stream",
          "name": "stdout",
          "text": [
            "[[ 6.50655229  1.93142355  0.          3.53889355 12.43980977]\n",
            " [12.41314557  0.          6.18259512  6.24655842  1.50275371]\n",
            " [ 9.7140687   0.         12.51373636 13.07438014 10.90355044]\n",
            " [ 7.6030678  10.60506959  4.36390254  0.         17.03619852]]\n"
          ]
        }
      ]
    }
  ]
}